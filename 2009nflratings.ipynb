{
 "cells": [
  {
   "cell_type": "code",
   "execution_count": 1,
   "id": "a9a97e76",
   "metadata": {},
   "outputs": [
    {
     "name": "stdout",
     "output_type": "stream",
     "text": [
      "Requirement already satisfied: gurobipy in c:\\users\\tgarn\\anaconda3\\lib\\site-packages (11.0.3)\n"
     ]
    }
   ],
   "source": [
    "!pip install gurobipy"
   ]
  },
  {
   "cell_type": "code",
   "execution_count": 2,
   "id": "2ff70109",
   "metadata": {},
   "outputs": [],
   "source": [
    "import numpy as np\n",
    "import pandas as pd\n",
    "import gurobipy as gp\n",
    "from sklearn.linear_model import LinearRegression\n",
    "from sklearn.metrics import mean_squared_error\n",
    "from scipy.optimize import minimize"
   ]
  },
  {
   "cell_type": "code",
   "execution_count": 3,
   "id": "ed3cd617",
   "metadata": {},
   "outputs": [
    {
     "name": "stdout",
     "output_type": "stream",
     "text": [
      "      0   1   2   3   4\n",
      "0     1  25  31  13  10\n",
      "1     1   2  17  19   7\n",
      "2     1  29  26  28   0\n",
      "3     1  21  32  23  17\n",
      "4     1   3  16  38  24\n",
      "..   ..  ..  ..  ..  ..\n",
      "251  17   5  20  23  10\n",
      "252  17  11   6  23  37\n",
      "253  17  22   6  37   0\n",
      "254  17   8  15  23  17\n",
      "255  17   1  12   7  33\n",
      "\n",
      "[256 rows x 5 columns]\n"
     ]
    }
   ],
   "source": [
    "nfl = pd.read_csv('nflratings.csv', header=None)\n",
    "print(nfl)"
   ]
  },
  {
   "cell_type": "code",
   "execution_count": 4,
   "id": "6bd0314b",
   "metadata": {},
   "outputs": [],
   "source": [
    "home = nfl[1].values -1\n",
    "away = nfl[2].values -1\n",
    "homescore = nfl[3].values\n",
    "awayscore = nfl[4].values"
   ]
  },
  {
   "cell_type": "code",
   "execution_count": 5,
   "id": "de2f992f",
   "metadata": {},
   "outputs": [],
   "source": [
    "spread = homescore - awayscore\n",
    "initial_ratings = np.zeros(32)\n",
    "initial_hfa = 0"
   ]
  },
  {
   "cell_type": "code",
   "execution_count": 6,
   "id": "9b708035",
   "metadata": {},
   "outputs": [],
   "source": [
    "def obj(params):\n",
    "    ratings = params[:32]\n",
    "    hfa = params[32]\n",
    "    \n",
    "    pred_spread = ratings[home] - ratings[away] + hfa\n",
    "    \n",
    "    errors = spread - pred_spread\n",
    "    \n",
    "    return np.sum(errors**2)"
   ]
  },
  {
   "cell_type": "code",
   "execution_count": 7,
   "id": "61ba1c51",
   "metadata": {},
   "outputs": [],
   "source": [
    "def con(params):\n",
    "    ratings = params[:32]\n",
    "    return np.mean(ratings) - 85"
   ]
  },
  {
   "cell_type": "code",
   "execution_count": 8,
   "id": "c07a9708",
   "metadata": {},
   "outputs": [],
   "source": [
    "initial_params = np.concatenate([initial_ratings, [initial_hfa]])\n",
    "\n",
    "constraints = [{'type': 'eq', 'fun': con}]\n",
    "bounds = [(None, None)]*33\n",
    "\n",
    "result = minimize(obj, initial_params, constraints=constraints, bounds=bounds)"
   ]
  },
  {
   "cell_type": "code",
   "execution_count": 9,
   "id": "a671acc2",
   "metadata": {},
   "outputs": [],
   "source": [
    "final_ratings = result.x[:32]\n",
    "final_hfa = result.x[32]\n",
    "\n",
    "predicted_spreads = final_ratings[home] - final_ratings[away] + final_hfa\n",
    "predicted_winners = np.sign(predicted_spreads)\n",
    "actual_winners = np.sign(spread)\n",
    "correct_predictions = np.sum(predicted_winners == actual_winners)"
   ]
  },
  {
   "cell_type": "code",
   "execution_count": 10,
   "id": "29f25675",
   "metadata": {},
   "outputs": [
    {
     "name": "stdout",
     "output_type": "stream",
     "text": [
      "Home field advantage: 2.17\n",
      "Number games correctly predicted: 181 out of 256\n",
      "Number games incorrectly predicted: 75 out of 256\n"
     ]
    }
   ],
   "source": [
    "print(f\"Home field advantage: {final_hfa:.2f}\")\n",
    "print(f\"Number games correctly predicted: {correct_predictions} out of 256\")\n",
    "print(f\"Number games incorrectly predicted: {256-correct_predictions} out of 256\")"
   ]
  }
 ],
 "metadata": {
  "kernelspec": {
   "display_name": "Python 3 (ipykernel)",
   "language": "python",
   "name": "python3"
  },
  "language_info": {
   "codemirror_mode": {
    "name": "ipython",
    "version": 3
   },
   "file_extension": ".py",
   "mimetype": "text/x-python",
   "name": "python",
   "nbconvert_exporter": "python",
   "pygments_lexer": "ipython3",
   "version": "3.11.4"
  }
 },
 "nbformat": 4,
 "nbformat_minor": 5
}
